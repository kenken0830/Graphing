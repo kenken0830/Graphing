{
  "cells": [
    {
      "cell_type": "markdown",
      "metadata": {
        "id": "view-in-github",
        "colab_type": "text"
      },
      "source": [
        "<a href=\"https://colab.research.google.com/github/kenken0830/Graphing/blob/main/sketch_demo.ipynb\" target=\"_parent\"><img src=\"https://colab.research.google.com/assets/colab-badge.svg\" alt=\"Open In Colab\"/></a>"
      ]
    },
    {
      "cell_type": "markdown",
      "metadata": {
        "id": "x-qhLXg0tCNj"
      },
      "source": [
        "# セットアップ"
      ]
    },
    {
      "cell_type": "code",
      "execution_count": 1,
      "metadata": {
        "id": "lRmfEjSOz5XP",
        "outputId": "639c4cad-bacf-464e-ebac-2bbef2e99543",
        "colab": {
          "base_uri": "https://localhost:8080/"
        }
      },
      "outputs": [
        {
          "output_type": "stream",
          "name": "stdout",
          "text": [
            "Cloning into 'Sketch-Generation-with-Drawing-Process-Guided-by-Vector-Flow-and-Grayscale'...\n",
            "remote: Enumerating objects: 597, done.\u001b[K\n",
            "remote: Counting objects: 100% (87/87), done.\u001b[K\n",
            "remote: Compressing objects: 100% (49/49), done.\u001b[K\n",
            "remote: Total 597 (delta 39), reused 83 (delta 38), pack-reused 510\u001b[K\n",
            "Receiving objects: 100% (597/597), 61.53 MiB | 7.33 MiB/s, done.\n",
            "Resolving deltas: 100% (314/314), done.\n",
            "/content/Sketch-Generation-with-Drawing-Process-Guided-by-Vector-Flow-and-Grayscale\n"
          ]
        }
      ],
      "source": [
        "# githubからコードをコピー\n",
        "!git clone https://github.com/cedro3/Sketch-Generation-with-Drawing-Process-Guided-by-Vector-Flow-and-Grayscale.git\n",
        "%cd Sketch-Generation-with-Drawing-Process-Guided-by-Vector-Flow-and-Grayscale"
      ]
    },
    {
      "cell_type": "markdown",
      "metadata": {
        "id": "j7qPY1YDCfPD"
      },
      "source": [
        "# コード本体"
      ]
    },
    {
      "cell_type": "code",
      "execution_count": null,
      "metadata": {
        "id": "V8GmCzCYFNX9",
        "outputId": "cec93ab7-e027-4a73-f0d8-113586dde8ee",
        "colab": {
          "base_uri": "https://localhost:8080/"
        }
      },
      "outputs": [
        {
          "output_type": "stream",
          "name": "stdout",
          "text": [
            "kasumi\n",
            "ETF done\n",
            "angle: -90.0\n",
            "HistogramEqualization done\n",
            "Quantization done\n",
            "angle: -72.0\n",
            "HistogramEqualization done\n",
            "Quantization done\n",
            "angle: -54.0\n",
            "HistogramEqualization done\n",
            "Quantization done\n",
            "angle: -36.0\n",
            "HistogramEqualization done\n",
            "Quantization done\n"
          ]
        }
      ],
      "source": [
        "# ------ スケッチプロセスを静止画に変換 ------\n",
        "from draw import *\n",
        "from PIL import Image\n",
        "import glob\n",
        "\n",
        "# setting\n",
        "file_name = 'kasumi.png'  # inputフォルダーにある画像名の指定\n",
        "n = 10  # グレースケール量子化次数\n",
        "period = 5  # 線（ストローク）幅 \n",
        "\n",
        "# drawing\n",
        "draw(file_name, n, period)"
      ]
    },
    {
      "cell_type": "code",
      "execution_count": null,
      "metadata": {
        "id": "-KqwKeC86Vse"
      },
      "outputs": [],
      "source": [
        "# ------ 静止画をmp4に変換 ------\n",
        "# 必要に応じて、output/＊＊＊/process/%04d.jpg  と output/＊＊＊/out.mp4　の＊＊＊部分を修正して下さい。\n",
        "\n",
        "!ffmpeg -r 30 -i output/kasumi/process/%04d.jpg -vcodec libx264 -pix_fmt yuv420p output/kasumi/out.mp4"
      ]
    },
    {
      "cell_type": "code",
      "execution_count": null,
      "metadata": {
        "id": "DSCZdbO7I2Uw"
      },
      "outputs": [],
      "source": [
        "# ------ mp4の再生 ------\n",
        "from IPython.display import HTML\n",
        "from base64 import b64encode\n",
        "\n",
        "mp4 = open('./output/'+file_name[:-4]+'/out.mp4', 'rb').read()\n",
        "data_url = 'data:video/mp4;base64,' + b64encode(mp4).decode()\n",
        "HTML(f\"\"\"\n",
        "<video width=\"50%\" height=\"50%\" controls>\n",
        "      <source src=\"{data_url}\" type=\"video/mp4\">\n",
        "</video>\"\"\")"
      ]
    },
    {
      "cell_type": "code",
      "execution_count": null,
      "metadata": {
        "id": "eSE9kJCYO2Ba"
      },
      "outputs": [],
      "source": [
        "# ------ 変換前後の画像比較 ------\n",
        "import cv2\n",
        "import numpy as np\n",
        "import matplotlib.pyplot as plt\n",
        "\n",
        "img1 = cv2.imread('./output/'+file_name[:-4]+'/input.jpg')\n",
        "src1 = cv2.cvtColor(img1, cv2.COLOR_BGR2RGB)\n",
        "img2 = cv2.imread('./output/'+file_name[:-4]+'/result_RGB.jpg')\n",
        "src2 = cv2.cvtColor(img2, cv2.COLOR_BGR2RGB)\n",
        "\n",
        "fig = plt.figure(figsize=(15,15))\n",
        "plt.subplot(1,2,1)\n",
        "plt.imshow(src1), plt.title('input')\n",
        "plt.axis('off')\n",
        "plt.subplot(1,2,2)\n",
        "plt.imshow(src2), plt.title('generated')\n",
        "plt.axis('off')\n",
        "plt.show()"
      ]
    }
  ],
  "metadata": {
    "accelerator": "GPU",
    "colab": {
      "name": "sketch_demo",
      "provenance": [],
      "include_colab_link": true
    },
    "kernelspec": {
      "display_name": "Python 3",
      "language": "python",
      "name": "python3"
    },
    "language_info": {
      "codemirror_mode": {
        "name": "ipython",
        "version": 3
      },
      "file_extension": ".py",
      "mimetype": "text/x-python",
      "name": "python",
      "nbconvert_exporter": "python",
      "pygments_lexer": "ipython3",
      "version": "3.7.9"
    }
  },
  "nbformat": 4,
  "nbformat_minor": 0
}